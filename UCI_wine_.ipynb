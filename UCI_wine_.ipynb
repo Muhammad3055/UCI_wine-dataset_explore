{
  "nbformat": 4,
  "nbformat_minor": 0,
  "metadata": {
    "colab": {
      "provenance": []
    },
    "kernelspec": {
      "name": "python3",
      "display_name": "Python 3"
    },
    "language_info": {
      "name": "python"
    }
  },
  "cells": [
    {
      "cell_type": "code",
      "execution_count": 5,
      "metadata": {
        "colab": {
          "base_uri": "https://localhost:8080/"
        },
        "id": "C12BMoXHDA91",
        "outputId": "f6fdb4c4-5512-4b57-cb97-2eb600027e7d"
      },
      "outputs": [
        {
          "output_type": "stream",
          "name": "stdout",
          "text": [
            "  fixed acidity;\"volatile acidity\";\"citric acid\";\"residual sugar\";\"chlorides\";\"free sulfur dioxide\";\"total sulfur dioxide\";\"density\";\"pH\";\"sulphates\";\"alcohol\";\"quality\"\n",
            "0   7.4;0.7;0;1.9;0.076;11;34;0.9978;3.51;0.56;9.4;5                                                                                                                     \n",
            "1   7.8;0.88;0;2.6;0.098;25;67;0.9968;3.2;0.68;9.8;5                                                                                                                     \n",
            "2  7.8;0.76;0.04;2.3;0.092;15;54;0.997;3.26;0.65;...                                                                                                                     \n",
            "3  11.2;0.28;0.56;1.9;0.075;17;60;0.998;3.16;0.58...                                                                                                                     \n",
            "4   7.4;0.7;0;1.9;0.076;11;34;0.9978;3.51;0.56;9.4;5                                                                                                                     \n",
            "<class 'pandas.core.frame.DataFrame'>\n",
            "RangeIndex: 1599 entries, 0 to 1598\n",
            "Data columns (total 1 columns):\n",
            " #   Column                                                                                                                                                                   Non-Null Count  Dtype \n",
            "---  ------                                                                                                                                                                   --------------  ----- \n",
            " 0   fixed acidity;\"volatile acidity\";\"citric acid\";\"residual sugar\";\"chlorides\";\"free sulfur dioxide\";\"total sulfur dioxide\";\"density\";\"pH\";\"sulphates\";\"alcohol\";\"quality\"  1599 non-null   object\n",
            "dtypes: object(1)\n",
            "memory usage: 12.6+ KB\n",
            "None\n",
            "fixed acidity;\"volatile acidity\";\"citric acid\";\"residual sugar\";\"chlorides\";\"free sulfur dioxide\";\"total sulfur dioxide\";\"density\";\"pH\";\"sulphates\";\"alcohol\";\"quality\"    0\n",
            "dtype: int64\n"
          ]
        }
      ],
      "source": [
        "import pandas as pd\n",
        "\n",
        "# Load dataset (you can download 'winequality-red.csv' or 'winequality-white.csv')\n",
        "df = pd.read_csv('winequality-red.csv')\n",
        "\n",
        "# Show first rows\n",
        "print(df.head())\n",
        "\n",
        "# Check shape and missing values\n",
        "print(df.info())\n",
        "print(df.isnull().sum())\n"
      ]
    },
    {
      "cell_type": "code",
      "source": [
        "df.head()"
      ],
      "metadata": {
        "colab": {
          "base_uri": "https://localhost:8080/",
          "height": 206
        },
        "id": "KDcVNnHjDcwm",
        "outputId": "138ae338-e60f-4dfe-dbb5-8ca7a1f3aa29"
      },
      "execution_count": 3,
      "outputs": [
        {
          "output_type": "execute_result",
          "data": {
            "text/plain": [
              "  fixed acidity;\"volatile acidity\";\"citric acid\";\"residual sugar\";\"chlorides\";\"free sulfur dioxide\";\"total sulfur dioxide\";\"density\";\"pH\";\"sulphates\";\"alcohol\";\"quality\"\n",
              "0   7.4;0.7;0;1.9;0.076;11;34;0.9978;3.51;0.56;9.4;5                                                                                                                     \n",
              "1   7.8;0.88;0;2.6;0.098;25;67;0.9968;3.2;0.68;9.8;5                                                                                                                     \n",
              "2  7.8;0.76;0.04;2.3;0.092;15;54;0.997;3.26;0.65;...                                                                                                                     \n",
              "3  11.2;0.28;0.56;1.9;0.075;17;60;0.998;3.16;0.58...                                                                                                                     \n",
              "4   7.4;0.7;0;1.9;0.076;11;34;0.9978;3.51;0.56;9.4;5                                                                                                                     "
            ],
            "text/html": [
              "\n",
              "  <div id=\"df-545c0f9f-42de-4d2b-823a-7ca581adf818\" class=\"colab-df-container\">\n",
              "    <div>\n",
              "<style scoped>\n",
              "    .dataframe tbody tr th:only-of-type {\n",
              "        vertical-align: middle;\n",
              "    }\n",
              "\n",
              "    .dataframe tbody tr th {\n",
              "        vertical-align: top;\n",
              "    }\n",
              "\n",
              "    .dataframe thead th {\n",
              "        text-align: right;\n",
              "    }\n",
              "</style>\n",
              "<table border=\"1\" class=\"dataframe\">\n",
              "  <thead>\n",
              "    <tr style=\"text-align: right;\">\n",
              "      <th></th>\n",
              "      <th>fixed acidity;\"volatile acidity\";\"citric acid\";\"residual sugar\";\"chlorides\";\"free sulfur dioxide\";\"total sulfur dioxide\";\"density\";\"pH\";\"sulphates\";\"alcohol\";\"quality\"</th>\n",
              "    </tr>\n",
              "  </thead>\n",
              "  <tbody>\n",
              "    <tr>\n",
              "      <th>0</th>\n",
              "      <td>7.4;0.7;0;1.9;0.076;11;34;0.9978;3.51;0.56;9.4;5</td>\n",
              "    </tr>\n",
              "    <tr>\n",
              "      <th>1</th>\n",
              "      <td>7.8;0.88;0;2.6;0.098;25;67;0.9968;3.2;0.68;9.8;5</td>\n",
              "    </tr>\n",
              "    <tr>\n",
              "      <th>2</th>\n",
              "      <td>7.8;0.76;0.04;2.3;0.092;15;54;0.997;3.26;0.65;...</td>\n",
              "    </tr>\n",
              "    <tr>\n",
              "      <th>3</th>\n",
              "      <td>11.2;0.28;0.56;1.9;0.075;17;60;0.998;3.16;0.58...</td>\n",
              "    </tr>\n",
              "    <tr>\n",
              "      <th>4</th>\n",
              "      <td>7.4;0.7;0;1.9;0.076;11;34;0.9978;3.51;0.56;9.4;5</td>\n",
              "    </tr>\n",
              "  </tbody>\n",
              "</table>\n",
              "</div>\n",
              "    <div class=\"colab-df-buttons\">\n",
              "\n",
              "  <div class=\"colab-df-container\">\n",
              "    <button class=\"colab-df-convert\" onclick=\"convertToInteractive('df-545c0f9f-42de-4d2b-823a-7ca581adf818')\"\n",
              "            title=\"Convert this dataframe to an interactive table.\"\n",
              "            style=\"display:none;\">\n",
              "\n",
              "  <svg xmlns=\"http://www.w3.org/2000/svg\" height=\"24px\" viewBox=\"0 -960 960 960\">\n",
              "    <path d=\"M120-120v-720h720v720H120Zm60-500h600v-160H180v160Zm220 220h160v-160H400v160Zm0 220h160v-160H400v160ZM180-400h160v-160H180v160Zm440 0h160v-160H620v160ZM180-180h160v-160H180v160Zm440 0h160v-160H620v160Z\"/>\n",
              "  </svg>\n",
              "    </button>\n",
              "\n",
              "  <style>\n",
              "    .colab-df-container {\n",
              "      display:flex;\n",
              "      gap: 12px;\n",
              "    }\n",
              "\n",
              "    .colab-df-convert {\n",
              "      background-color: #E8F0FE;\n",
              "      border: none;\n",
              "      border-radius: 50%;\n",
              "      cursor: pointer;\n",
              "      display: none;\n",
              "      fill: #1967D2;\n",
              "      height: 32px;\n",
              "      padding: 0 0 0 0;\n",
              "      width: 32px;\n",
              "    }\n",
              "\n",
              "    .colab-df-convert:hover {\n",
              "      background-color: #E2EBFA;\n",
              "      box-shadow: 0px 1px 2px rgba(60, 64, 67, 0.3), 0px 1px 3px 1px rgba(60, 64, 67, 0.15);\n",
              "      fill: #174EA6;\n",
              "    }\n",
              "\n",
              "    .colab-df-buttons div {\n",
              "      margin-bottom: 4px;\n",
              "    }\n",
              "\n",
              "    [theme=dark] .colab-df-convert {\n",
              "      background-color: #3B4455;\n",
              "      fill: #D2E3FC;\n",
              "    }\n",
              "\n",
              "    [theme=dark] .colab-df-convert:hover {\n",
              "      background-color: #434B5C;\n",
              "      box-shadow: 0px 1px 3px 1px rgba(0, 0, 0, 0.15);\n",
              "      filter: drop-shadow(0px 1px 2px rgba(0, 0, 0, 0.3));\n",
              "      fill: #FFFFFF;\n",
              "    }\n",
              "  </style>\n",
              "\n",
              "    <script>\n",
              "      const buttonEl =\n",
              "        document.querySelector('#df-545c0f9f-42de-4d2b-823a-7ca581adf818 button.colab-df-convert');\n",
              "      buttonEl.style.display =\n",
              "        google.colab.kernel.accessAllowed ? 'block' : 'none';\n",
              "\n",
              "      async function convertToInteractive(key) {\n",
              "        const element = document.querySelector('#df-545c0f9f-42de-4d2b-823a-7ca581adf818');\n",
              "        const dataTable =\n",
              "          await google.colab.kernel.invokeFunction('convertToInteractive',\n",
              "                                                    [key], {});\n",
              "        if (!dataTable) return;\n",
              "\n",
              "        const docLinkHtml = 'Like what you see? Visit the ' +\n",
              "          '<a target=\"_blank\" href=https://colab.research.google.com/notebooks/data_table.ipynb>data table notebook</a>'\n",
              "          + ' to learn more about interactive tables.';\n",
              "        element.innerHTML = '';\n",
              "        dataTable['output_type'] = 'display_data';\n",
              "        await google.colab.output.renderOutput(dataTable, element);\n",
              "        const docLink = document.createElement('div');\n",
              "        docLink.innerHTML = docLinkHtml;\n",
              "        element.appendChild(docLink);\n",
              "      }\n",
              "    </script>\n",
              "  </div>\n",
              "\n",
              "\n",
              "    <div id=\"df-837f94cb-8b35-49fc-a3ef-fc64a6699de3\">\n",
              "      <button class=\"colab-df-quickchart\" onclick=\"quickchart('df-837f94cb-8b35-49fc-a3ef-fc64a6699de3')\"\n",
              "                title=\"Suggest charts\"\n",
              "                style=\"display:none;\">\n",
              "\n",
              "<svg xmlns=\"http://www.w3.org/2000/svg\" height=\"24px\"viewBox=\"0 0 24 24\"\n",
              "     width=\"24px\">\n",
              "    <g>\n",
              "        <path d=\"M19 3H5c-1.1 0-2 .9-2 2v14c0 1.1.9 2 2 2h14c1.1 0 2-.9 2-2V5c0-1.1-.9-2-2-2zM9 17H7v-7h2v7zm4 0h-2V7h2v10zm4 0h-2v-4h2v4z\"/>\n",
              "    </g>\n",
              "</svg>\n",
              "      </button>\n",
              "\n",
              "<style>\n",
              "  .colab-df-quickchart {\n",
              "      --bg-color: #E8F0FE;\n",
              "      --fill-color: #1967D2;\n",
              "      --hover-bg-color: #E2EBFA;\n",
              "      --hover-fill-color: #174EA6;\n",
              "      --disabled-fill-color: #AAA;\n",
              "      --disabled-bg-color: #DDD;\n",
              "  }\n",
              "\n",
              "  [theme=dark] .colab-df-quickchart {\n",
              "      --bg-color: #3B4455;\n",
              "      --fill-color: #D2E3FC;\n",
              "      --hover-bg-color: #434B5C;\n",
              "      --hover-fill-color: #FFFFFF;\n",
              "      --disabled-bg-color: #3B4455;\n",
              "      --disabled-fill-color: #666;\n",
              "  }\n",
              "\n",
              "  .colab-df-quickchart {\n",
              "    background-color: var(--bg-color);\n",
              "    border: none;\n",
              "    border-radius: 50%;\n",
              "    cursor: pointer;\n",
              "    display: none;\n",
              "    fill: var(--fill-color);\n",
              "    height: 32px;\n",
              "    padding: 0;\n",
              "    width: 32px;\n",
              "  }\n",
              "\n",
              "  .colab-df-quickchart:hover {\n",
              "    background-color: var(--hover-bg-color);\n",
              "    box-shadow: 0 1px 2px rgba(60, 64, 67, 0.3), 0 1px 3px 1px rgba(60, 64, 67, 0.15);\n",
              "    fill: var(--button-hover-fill-color);\n",
              "  }\n",
              "\n",
              "  .colab-df-quickchart-complete:disabled,\n",
              "  .colab-df-quickchart-complete:disabled:hover {\n",
              "    background-color: var(--disabled-bg-color);\n",
              "    fill: var(--disabled-fill-color);\n",
              "    box-shadow: none;\n",
              "  }\n",
              "\n",
              "  .colab-df-spinner {\n",
              "    border: 2px solid var(--fill-color);\n",
              "    border-color: transparent;\n",
              "    border-bottom-color: var(--fill-color);\n",
              "    animation:\n",
              "      spin 1s steps(1) infinite;\n",
              "  }\n",
              "\n",
              "  @keyframes spin {\n",
              "    0% {\n",
              "      border-color: transparent;\n",
              "      border-bottom-color: var(--fill-color);\n",
              "      border-left-color: var(--fill-color);\n",
              "    }\n",
              "    20% {\n",
              "      border-color: transparent;\n",
              "      border-left-color: var(--fill-color);\n",
              "      border-top-color: var(--fill-color);\n",
              "    }\n",
              "    30% {\n",
              "      border-color: transparent;\n",
              "      border-left-color: var(--fill-color);\n",
              "      border-top-color: var(--fill-color);\n",
              "      border-right-color: var(--fill-color);\n",
              "    }\n",
              "    40% {\n",
              "      border-color: transparent;\n",
              "      border-right-color: var(--fill-color);\n",
              "      border-top-color: var(--fill-color);\n",
              "    }\n",
              "    60% {\n",
              "      border-color: transparent;\n",
              "      border-right-color: var(--fill-color);\n",
              "    }\n",
              "    80% {\n",
              "      border-color: transparent;\n",
              "      border-right-color: var(--fill-color);\n",
              "      border-bottom-color: var(--fill-color);\n",
              "    }\n",
              "    90% {\n",
              "      border-color: transparent;\n",
              "      border-bottom-color: var(--fill-color);\n",
              "    }\n",
              "  }\n",
              "</style>\n",
              "\n",
              "      <script>\n",
              "        async function quickchart(key) {\n",
              "          const quickchartButtonEl =\n",
              "            document.querySelector('#' + key + ' button');\n",
              "          quickchartButtonEl.disabled = true;  // To prevent multiple clicks.\n",
              "          quickchartButtonEl.classList.add('colab-df-spinner');\n",
              "          try {\n",
              "            const charts = await google.colab.kernel.invokeFunction(\n",
              "                'suggestCharts', [key], {});\n",
              "          } catch (error) {\n",
              "            console.error('Error during call to suggestCharts:', error);\n",
              "          }\n",
              "          quickchartButtonEl.classList.remove('colab-df-spinner');\n",
              "          quickchartButtonEl.classList.add('colab-df-quickchart-complete');\n",
              "        }\n",
              "        (() => {\n",
              "          let quickchartButtonEl =\n",
              "            document.querySelector('#df-837f94cb-8b35-49fc-a3ef-fc64a6699de3 button');\n",
              "          quickchartButtonEl.style.display =\n",
              "            google.colab.kernel.accessAllowed ? 'block' : 'none';\n",
              "        })();\n",
              "      </script>\n",
              "    </div>\n",
              "\n",
              "    </div>\n",
              "  </div>\n"
            ],
            "application/vnd.google.colaboratory.intrinsic+json": {
              "type": "dataframe",
              "variable_name": "df",
              "summary": "{\n  \"name\": \"df\",\n  \"rows\": 1599,\n  \"fields\": [\n    {\n      \"column\": \"fixed acidity;\\\"volatile acidity\\\";\\\"citric acid\\\";\\\"residual sugar\\\";\\\"chlorides\\\";\\\"free sulfur dioxide\\\";\\\"total sulfur dioxide\\\";\\\"density\\\";\\\"pH\\\";\\\"sulphates\\\";\\\"alcohol\\\";\\\"quality\\\"\",\n      \"properties\": {\n        \"dtype\": \"string\",\n        \"num_unique_values\": 1359,\n        \"samples\": [\n          \"7.7;0.62;0.04;3.8;0.084;25;45;0.9978;3.34;0.53;9.5;5\",\n          \"8.2;0.635;0.1;2.1;0.073;25;60;0.99638;3.29;0.75;10.9;6\",\n          \"8.4;0.37;0.43;2.3;0.063;12;19;0.9955;3.17;0.81;11.2;7\"\n        ],\n        \"semantic_type\": \"\",\n        \"description\": \"\"\n      }\n    }\n  ]\n}"
            }
          },
          "metadata": {},
          "execution_count": 3
        }
      ]
    },
    {
      "cell_type": "code",
      "source": [
        "import pandas as pd\n",
        "\n",
        "# Load with correct separator\n",
        "red_df_fixed = pd.read_csv('winequality-red.csv', sep=';')\n",
        "\n",
        "# Check it's loaded\n",
        "print(red_df_fixed.head())\n"
      ],
      "metadata": {
        "colab": {
          "base_uri": "https://localhost:8080/"
        },
        "id": "KaeIBsUIEDIq",
        "outputId": "08491e8d-9a9a-4784-90ed-ed2eb14ede56"
      },
      "execution_count": 7,
      "outputs": [
        {
          "output_type": "stream",
          "name": "stdout",
          "text": [
            "   fixed acidity  volatile acidity  citric acid  residual sugar  chlorides  \\\n",
            "0            7.4              0.70         0.00             1.9      0.076   \n",
            "1            7.8              0.88         0.00             2.6      0.098   \n",
            "2            7.8              0.76         0.04             2.3      0.092   \n",
            "3           11.2              0.28         0.56             1.9      0.075   \n",
            "4            7.4              0.70         0.00             1.9      0.076   \n",
            "\n",
            "   free sulfur dioxide  total sulfur dioxide  density    pH  sulphates  \\\n",
            "0                 11.0                  34.0   0.9978  3.51       0.56   \n",
            "1                 25.0                  67.0   0.9968  3.20       0.68   \n",
            "2                 15.0                  54.0   0.9970  3.26       0.65   \n",
            "3                 17.0                  60.0   0.9980  3.16       0.58   \n",
            "4                 11.0                  34.0   0.9978  3.51       0.56   \n",
            "\n",
            "   alcohol  quality  \n",
            "0      9.4        5  \n",
            "1      9.8        5  \n",
            "2      9.8        5  \n",
            "3      9.8        6  \n",
            "4      9.4        5  \n"
          ]
        }
      ]
    },
    {
      "cell_type": "code",
      "source": [
        "from sklearn.model_selection import train_test_split\n",
        "from sklearn.preprocessing import StandardScaler\n",
        "\n",
        "# Drop rows with missing values (if any)\n",
        "df = df.dropna()\n",
        "\n",
        "# Split: features & target\n",
        "X = red_df_fixed.drop('quality', axis=1)\n",
        "y = red_df_fixed['quality']\n",
        "\n",
        "\n",
        "# Train-Test Split\n",
        "X_train, X_test, y_train, y_test = train_test_split(\n",
        "    X, y, test_size=0.2, random_state=42\n",
        ")\n",
        "\n",
        "# Scale features (important for GD!)\n",
        "scaler = StandardScaler()\n",
        "X_train_scaled = scaler.fit_transform(X_train)\n",
        "X_test_scaled = scaler.transform(X_test)\n"
      ],
      "metadata": {
        "id": "JzSmjAq9DZq5"
      },
      "execution_count": 21,
      "outputs": []
    },
    {
      "cell_type": "code",
      "source": [
        "import time\n",
        "import numpy as np\n",
        "from sklearn.metrics import mean_squared_error, r2_score\n",
        "from sklearn.linear_model import LinearRegression, SGDRegressor, Ridge, Lasso\n",
        "\n",
        "results = {}\n",
        "\n",
        "# Linear Regression\n",
        "start = time.time()\n",
        "lin_reg = LinearRegression().fit(X_train_poly, y_train)\n",
        "end = time.time()\n",
        "y_pred_lin = lin_reg.predict(X_test_poly)\n",
        "results['Linear Regression'] = {\n",
        "    'RMSE': np.sqrt(mean_squared_error(y_test, y_pred_lin)),\n",
        "    'R²': r2_score(y_test, y_pred_lin),\n",
        "    'Time (s)': end - start\n",
        "}\n",
        "\n",
        "# SGD Regressor\n",
        "start = time.time()\n",
        "sgd = SGDRegressor(max_iter=1000, tol=1e-3).fit(X_train_poly, y_train)\n",
        "end = time.time()\n",
        "y_pred_sgd = sgd.predict(X_test_poly)\n",
        "results['SGD Regressor'] = {\n",
        "    'RMSE': np.sqrt(mean_squared_error(y_test, y_pred_sgd)),\n",
        "    'R²': r2_score(y_test, y_pred_sgd),\n",
        "    'Time (s)': end - start\n",
        "}\n",
        "\n",
        "# Ridge\n",
        "start = time.time()\n",
        "ridge = Ridge(alpha=1.0).fit(X_train_poly, y_train)\n",
        "end = time.time()\n",
        "y_pred_ridge = ridge.predict(X_test_poly)\n",
        "results['Ridge'] = {\n",
        "    'RMSE': np.sqrt(mean_squared_error(y_test, y_pred_ridge)),\n",
        "    'R²': r2_score(y_test, y_pred_ridge),\n",
        "    'Time (s)': end - start\n",
        "}\n",
        "\n",
        "# Lasso\n",
        "start = time.time()\n",
        "lasso = Lasso(alpha=0.01).fit(X_train_poly, y_train)\n",
        "end = time.time()\n",
        "y_pred_lasso = lasso.predict(X_test_poly)\n",
        "results['Lasso'] = {\n",
        "    'RMSE': np.sqrt(mean_squared_error(y_test, y_pred_lasso)),\n",
        "    'R²': r2_score(y_test, y_pred_lasso),\n",
        "    'Time (s)': end - start\n",
        "}\n",
        "\n",
        "# Show results table\n",
        "results_df = pd.DataFrame(results).T\n",
        "print(\"\\nRegression Models Comparison:\\n\", results_df)\n"
      ],
      "metadata": {
        "colab": {
          "base_uri": "https://localhost:8080/"
        },
        "id": "PEPDVr8JGIc_",
        "outputId": "4990d5ae-da2a-4af5-b90f-8e94f2b2c683"
      },
      "execution_count": 22,
      "outputs": [
        {
          "output_type": "stream",
          "name": "stdout",
          "text": [
            "\n",
            "Regression Models Comparison:\n",
            "                            RMSE            R²  Time (s)\n",
            "Linear Regression  6.179454e-01  4.156801e-01  0.147975\n",
            "SGD Regressor      2.270338e+11 -7.887359e+22  0.013178\n",
            "Ridge              6.174127e-01  4.166870e-01  0.002989\n",
            "Lasso              6.141072e-01  4.229162e-01  0.005317\n"
          ]
        }
      ]
    },
    {
      "cell_type": "code",
      "source": [
        "from sklearn.preprocessing import PolynomialFeatures\n",
        "\n",
        "# Make polynomial features (degree=2)\n",
        "poly = PolynomialFeatures(degree=2, include_bias=False)\n",
        "X_train_poly = poly.fit_transform(X_train_scaled)\n",
        "X_test_poly = poly.transform(X_test_scaled)\n",
        "\n",
        "print(\"Original shape:\", X_train_scaled.shape)\n",
        "print(\"Poly shape:\", X_train_poly.shape)\n"
      ],
      "metadata": {
        "colab": {
          "base_uri": "https://localhost:8080/"
        },
        "id": "2SXb6deEEJTT",
        "outputId": "d47e9091-2b36-4d95-c8ea-2807d8cb79b6"
      },
      "execution_count": 9,
      "outputs": [
        {
          "output_type": "stream",
          "name": "stdout",
          "text": [
            "Original shape: (1279, 11)\n",
            "Poly shape: (1279, 77)\n"
          ]
        }
      ]
    },
    {
      "cell_type": "code",
      "source": [
        "from sklearn.linear_model import LinearRegression\n",
        "from sklearn.metrics import mean_squared_error, r2_score\n",
        "\n",
        "# Train Linear Regression\n",
        "lin_reg = LinearRegression()\n",
        "lin_reg.fit(X_train_poly, y_train)\n",
        "\n",
        "# Predict\n",
        "y_pred_lin = lin_reg.predict(X_test_poly)\n",
        "\n",
        "# Evaluate\n",
        "mse_lin = mean_squared_error(y_test, y_pred_lin)\n",
        "r2_lin = r2_score(y_test, y_pred_lin)\n",
        "\n",
        "print(\"Linear Regression MSE:\", mse_lin)\n",
        "print(\"Linear Regression R²:\", r2_lin)\n"
      ],
      "metadata": {
        "colab": {
          "base_uri": "https://localhost:8080/"
        },
        "id": "0v8Z-z2WEMOu",
        "outputId": "a1098e6e-57ad-445d-ae49-14cd92b3267f"
      },
      "execution_count": 10,
      "outputs": [
        {
          "output_type": "stream",
          "name": "stdout",
          "text": [
            "Linear Regression MSE: 0.38185650165750096\n",
            "Linear Regression R²: 0.4156800644102856\n"
          ]
        }
      ]
    },
    {
      "cell_type": "code",
      "source": [
        "from sklearn.linear_model import SGDRegressor\n",
        "\n",
        "sgd_reg = SGDRegressor(max_iter=1000, tol=1e-3, penalty=None, eta0=0.01, random_state=42)\n",
        "sgd_reg.fit(X_train_poly, y_train)\n",
        "\n",
        "y_pred_sgd = sgd_reg.predict(X_test_poly)\n",
        "mse_sgd = mean_squared_error(y_test, y_pred_sgd)\n",
        "r2_sgd = r2_score(y_test, y_pred_sgd)\n",
        "\n",
        "print(\"SGD Regressor MSE:\", mse_sgd)\n",
        "print(\"SGD Regressor R²:\", r2_sgd)\n"
      ],
      "metadata": {
        "colab": {
          "base_uri": "https://localhost:8080/"
        },
        "id": "fjJMafj-EPQP",
        "outputId": "d840a167-f113-495f-c0ec-c55d807b0fe7"
      },
      "execution_count": 11,
      "outputs": [
        {
          "output_type": "stream",
          "name": "stdout",
          "text": [
            "SGD Regressor MSE: 8.576253456250417e+22\n",
            "SGD Regressor R²: -1.3123453039047844e+23\n"
          ]
        }
      ]
    },
    {
      "cell_type": "code",
      "source": [
        "from sklearn.linear_model import Ridge, Lasso\n",
        "\n",
        "ridge_reg = Ridge(alpha=1.0)\n",
        "ridge_reg.fit(X_train_poly, y_train)\n",
        "y_pred_ridge = ridge_reg.predict(X_test_poly)\n",
        "\n",
        "lasso_reg = Lasso(alpha=0.01)\n",
        "lasso_reg.fit(X_train_poly, y_train)\n",
        "y_pred_lasso = lasso_reg.predict(X_test_poly)\n",
        "\n",
        "print(\"Ridge MSE:\", mean_squared_error(y_test, y_pred_ridge))\n",
        "print(\"Ridge R²:\", r2_score(y_test, y_pred_ridge))\n",
        "\n",
        "print(\"Lasso MSE:\", mean_squared_error(y_test, y_pred_lasso))\n",
        "print(\"Lasso R²:\", r2_score(y_test, y_pred_lasso))\n"
      ],
      "metadata": {
        "colab": {
          "base_uri": "https://localhost:8080/"
        },
        "id": "FKH3IINoET1v",
        "outputId": "06356bed-215a-4696-eefa-d0c49ee59885"
      },
      "execution_count": 12,
      "outputs": [
        {
          "output_type": "stream",
          "name": "stdout",
          "text": [
            "Ridge MSE: 0.38119845303321237\n",
            "Ridge R²: 0.4166870157862349\n",
            "Lasso MSE: 0.37712761499468134\n",
            "Lasso R²: 0.4229162453794084\n"
          ]
        }
      ]
    },
    {
      "cell_type": "code",
      "source": [
        "from sklearn.linear_model import LogisticRegression\n",
        "from sklearn.metrics import accuracy_score, f1_score\n",
        "\n",
        "# Binarize quality: Good (>=7) vs Bad (<7)\n",
        "y_train_bin = (y_train >= 7).astype(int)\n",
        "y_test_bin = (y_test >= 7).astype(int)\n",
        "\n",
        "log_reg = LogisticRegression(max_iter=1000)\n",
        "log_reg.fit(X_train_scaled, y_train_bin)\n",
        "\n",
        "y_pred_log = log_reg.predict(X_test_scaled)\n",
        "\n",
        "print(\"Logistic Regression Accuracy:\", accuracy_score(y_test_bin, y_pred_log))\n",
        "print(\"Logistic Regression F1:\", f1_score(y_test_bin, y_pred_log))\n"
      ],
      "metadata": {
        "colab": {
          "base_uri": "https://localhost:8080/"
        },
        "id": "x5R0JnHAEZpU",
        "outputId": "f094552a-6b04-476a-bd0a-20b21717f7ec"
      },
      "execution_count": 13,
      "outputs": [
        {
          "output_type": "stream",
          "name": "stdout",
          "text": [
            "Logistic Regression Accuracy: 0.865625\n",
            "Logistic Regression F1: 0.37681159420289856\n"
          ]
        }
      ]
    },
    {
      "cell_type": "code",
      "source": [
        "import matplotlib.pyplot as plt\n",
        "import numpy as np\n",
        "from sklearn.model_selection import learning_curve\n",
        "\n",
        "def plot_learning_curve(estimator, X, y, title):\n",
        "    train_sizes, train_scores, val_scores = learning_curve(\n",
        "        estimator, X, y, cv=5, scoring='neg_mean_squared_error',\n",
        "        train_sizes=np.linspace(0.1, 1.0, 10)\n",
        "    )\n",
        "    train_rmse = np.sqrt(-train_scores)\n",
        "    val_rmse = np.sqrt(-val_scores)\n",
        "\n",
        "    plt.plot(train_sizes, train_rmse.mean(axis=1), 'o-', label='Train RMSE')\n",
        "    plt.plot(train_sizes, val_rmse.mean(axis=1), 'o-', label='Val RMSE')\n",
        "    plt.title(title)\n",
        "    plt.xlabel(\"Training Set Size\")\n",
        "    plt.ylabel(\"RMSE\")\n",
        "    plt.legend()\n",
        "    plt.show()\n",
        "\n",
        "plot_learning_curve(lin_reg, X_train_poly, y_train, \"Linear Regression Learning Curve\")\n",
        "plot_learning_curve(ridge_reg, X_train_poly, y_train, \"Ridge Learning Curve\")\n",
        "plot_learning_curve(lasso_reg, X_train_poly, y_train, \"Lasso Learning Curve\")\n"
      ],
      "metadata": {
        "colab": {
          "base_uri": "https://localhost:8080/",
          "height": 1000
        },
        "id": "AXHqCKONEhgI",
        "outputId": "a970c830-1c22-404b-f53e-8cdba2fe5cb6"
      },
      "execution_count": 14,
      "outputs": [
        {
          "output_type": "display_data",
          "data": {
            "text/plain": [
              "<Figure size 640x480 with 1 Axes>"
            ],
            "image/png": "[encoded data removed]"
          },
          "metadata": {}
        },
        {
          "output_type": "display_data",
          "data": {
            "text/plain": [
              "<Figure size 640x480 with 1 Axes>"
            ],
            "image/png": "[encoded data removed]"
          },
          "metadata": {}
        },
        {
          "output_type": "display_data",
          "data": {
            "text/plain": [
              "<Figure size 640x480 with 1 Axes>"
            ],
            "image/png": "[encoded data removed]"
          },
          "metadata": {}
        }
      ]
    },
    {
      "cell_type": "code",
      "source": [
        "from sklearn.model_selection import GridSearchCV\n",
        "\n",
        "# Example: Ridge Regression alpha tuning\n",
        "param_grid = {'alpha': [0.01, 0.1, 1, 10, 100]}\n",
        "grid_search = GridSearchCV(Ridge(), param_grid, cv=5, scoring='neg_mean_squared_error')\n",
        "grid_search.fit(X_train_poly, y_train)\n",
        "\n",
        "print(\"Best alpha:\", grid_search.best_params_)\n",
        "print(\"Best score (MSE):\", -grid_search.best_score_)\n"
      ],
      "metadata": {
        "colab": {
          "base_uri": "https://localhost:8080/"
        },
        "id": "VsBByaAwEki1",
        "outputId": "8367132a-52c7-4fb6-e696-8aeb4e43dbb7"
      },
      "execution_count": 15,
      "outputs": [
        {
          "output_type": "stream",
          "name": "stdout",
          "text": [
            "Best alpha: {'alpha': 100}\n",
            "Best score (MSE): 0.46693090197187936\n"
          ]
        }
      ]
    },
    {
      "cell_type": "code",
      "source": [
        "import numpy as np\n",
        "rmse = np.sqrt(mean_squared_error(y_test, y_pred_lin))\n"
      ],
      "metadata": {
        "id": "bNaUBHxwFJa4"
      },
      "execution_count": 17,
      "outputs": []
    },
    {
      "cell_type": "code",
      "source": [
        "import time\n",
        "import numpy as np\n",
        "import pandas as pd\n",
        "from sklearn.metrics import mean_squared_error, r2_score\n",
        "from sklearn.linear_model import LinearRegression, SGDRegressor, Ridge, Lasso\n",
        "\n",
        "# Store results here\n",
        "results = {}\n",
        "\n",
        "# Linear Regression\n",
        "start = time.time()\n",
        "lin_reg = LinearRegression().fit(X_train_poly, y_train)\n",
        "end = time.time()\n",
        "y_pred_lin = lin_reg.predict(X_test_poly)\n",
        "results['Linear Regression'] = {\n",
        "    'RMSE': np.sqrt(mean_squared_error(y_test, y_pred_lin)),\n",
        "    'R²': r2_score(y_test, y_pred_lin),\n",
        "    'Time (s)': end - start\n",
        "}\n",
        "\n",
        "# SGD Regressor\n",
        "start = time.time()\n",
        "sgd = SGDRegressor(max_iter=1000, tol=1e-3).fit(X_train_poly, y_train)\n",
        "end = time.time()\n",
        "y_pred_sgd = sgd.predict(X_test_poly)\n",
        "results['SGD Regressor'] = {\n",
        "    'RMSE': np.sqrt(mean_squared_error(y_test, y_pred_sgd)),\n",
        "    'R²': r2_score(y_test, y_pred_sgd),\n",
        "    'Time (s)': end - start\n",
        "}\n",
        "\n",
        "# Ridge Regression\n",
        "start = time.time()\n",
        "ridge = Ridge(alpha=1.0).fit(X_train_poly, y_train)\n",
        "end = time.time()\n",
        "y_pred_ridge = ridge.predict(X_test_poly)\n",
        "results['Ridge'] = {\n",
        "    'RMSE': np.sqrt(mean_squared_error(y_test, y_pred_ridge)),\n",
        "    'R²': r2_score(y_test, y_pred_ridge),\n",
        "    'Time (s)': end - start\n",
        "}\n",
        "\n",
        "# Lasso Regression\n",
        "start = time.time()\n",
        "lasso = Lasso(alpha=0.01).fit(X_train_poly, y_train)\n",
        "end = time.time()\n",
        "y_pred_lasso = lasso.predict(X_test_poly)\n",
        "results['Lasso'] = {\n",
        "    'RMSE': np.sqrt(mean_squared_error(y_test, y_pred_lasso)),\n",
        "    'R²': r2_score(y_test, y_pred_lasso),\n",
        "    'Time (s)': end - start\n",
        "}\n",
        "\n",
        "# Convert to DataFrame for pretty table\n",
        "results_df = pd.DataFrame(results).T\n",
        "print(results_df)\n"
      ],
      "metadata": {
        "colab": {
          "base_uri": "https://localhost:8080/"
        },
        "id": "-NaymJjhFAuk",
        "outputId": "bdfa9c26-abae-491b-d967-251e3bc1646f"
      },
      "execution_count": 19,
      "outputs": [
        {
          "output_type": "stream",
          "name": "stdout",
          "text": [
            "                           RMSE            R²  Time (s)\n",
            "Linear Regression  6.179454e-01  4.156801e-01  0.072232\n",
            "SGD Regressor      2.334660e+11 -8.340610e+22  0.011605\n",
            "Ridge              6.174127e-01  4.166870e-01  0.058403\n",
            "Lasso              6.141072e-01  4.229162e-01  0.011873\n"
          ]
        }
      ]
    },
    {
      "cell_type": "code",
      "source": [
        "# Top features for Ridge\n",
        "feature_names = poly.get_feature_names_out(X.columns)\n",
        "coefs_ridge = ridge.coef_\n",
        "\n",
        "top_idx = np.argsort(np.abs(coefs_ridge))[-10:]\n",
        "print(\"\\nTop 10 Ridge Coefficients:\")\n",
        "for idx in reversed(top_idx):\n",
        "    print(f\"{feature_names[idx]}: {coefs_ridge[idx]:.4f}\")\n"
      ],
      "metadata": {
        "colab": {
          "base_uri": "https://localhost:8080/"
        },
        "id": "Pl7TiSYpGOrZ",
        "outputId": "107e900a-8f7b-40e4-cab1-23e1af02182c"
      },
      "execution_count": 23,
      "outputs": [
        {
          "output_type": "stream",
          "name": "stdout",
          "text": [
            "\n",
            "Top 10 Ridge Coefficients:\n",
            "alcohol: 0.2848\n",
            "sulphates: 0.2497\n",
            "fixed acidity density: 0.2353\n",
            "density pH: 0.2182\n",
            "fixed acidity^2: -0.1874\n",
            "fixed acidity pH: -0.1793\n",
            "total sulfur dioxide: -0.1738\n",
            "citric acid pH: -0.1697\n",
            "volatile acidity: -0.1681\n",
            "total sulfur dioxide density: -0.1636\n"
          ]
        }
      ]
    },
    {
      "cell_type": "code",
      "source": [
        "import matplotlib.pyplot as plt\n",
        "import numpy as np\n",
        "from sklearn.model_selection import learning_curve\n",
        "\n",
        "def plot_learning_curve(estimator, X, y, title):\n",
        "    train_sizes, train_scores, val_scores = learning_curve(\n",
        "        estimator, X, y, cv=5, scoring='neg_mean_squared_error',\n",
        "        train_sizes=np.linspace(0.1, 1.0, 10)\n",
        "    )\n",
        "    train_rmse = np.sqrt(-train_scores)\n",
        "    val_rmse = np.sqrt(-val_scores)\n",
        "\n",
        "    plt.plot(train_sizes, train_rmse.mean(axis=1), 'o-', label='Train RMSE')\n",
        "    plt.plot(train_sizes, val_rmse.mean(axis=1), 'o-', label='Val RMSE')\n",
        "    plt.title(title)\n",
        "    plt.xlabel(\"Training Set Size\")\n",
        "    plt.ylabel(\"RMSE\")\n",
        "    plt.legend()\n",
        "    plt.show()\n",
        "\n",
        "plot_learning_curve(ridge, X_train_poly, y_train, \"Ridge Learning Curve\")\n"
      ],
      "metadata": {
        "colab": {
          "base_uri": "https://localhost:8080/",
          "height": 472
        },
        "id": "tDj0AILAGR9g",
        "outputId": "5c4c2e74-39d6-4d87-807e-82ed5b306384"
      },
      "execution_count": 24,
      "outputs": [
        {
          "output_type": "display_data",
          "data": {
            "text/plain": [
              "<Figure size 640x480 with 1 Axes>"
            ],
            "image/png": "[encoded data removed]"
          },
          "metadata": {}
        }
      ]
    },
    {
      "cell_type": "code",
      "source": [
        "from sklearn.linear_model import LogisticRegression, SGDClassifier\n",
        "from sklearn.metrics import accuracy_score, f1_score\n",
        "\n",
        "# Binarize target: good (>=7) vs bad (<7)\n",
        "y_train_bin = (y_train >= 7).astype(int)\n",
        "y_test_bin = (y_test >= 7).astype(int)\n",
        "\n",
        "# Logistic Regression\n",
        "start = time.time()\n",
        "log_reg = LogisticRegression(max_iter=1000).fit(X_train_scaled, y_train_bin)\n",
        "end = time.time()\n",
        "y_pred_log = log_reg.predict(X_test_scaled)\n",
        "\n",
        "acc_log = accuracy_score(y_test_bin, y_pred_log)\n",
        "f1_log = f1_score(y_test_bin, y_pred_log)\n",
        "time_log = end - start\n",
        "\n",
        "# SGD Classifier\n",
        "start = time.time()\n",
        "sgd_clf = SGDClassifier(max_iter=1000, tol=1e-3).fit(X_train_scaled, y_train_bin)\n",
        "end = time.time()\n",
        "y_pred_sgd = sgd_clf.predict(X_test_scaled)\n",
        "\n",
        "acc_sgd = accuracy_score(y_test_bin, y_pred_sgd)\n",
        "f1_sgd = f1_score(y_test_bin, y_pred_sgd)\n",
        "time_sgd = end - start\n",
        "\n",
        "# Show classification results\n",
        "results_classification = {\n",
        "    'Logistic Regression': {\n",
        "        'Accuracy': acc_log,\n",
        "        'F1-score': f1_log,\n",
        "        'Time (s)': time_log\n",
        "    },\n",
        "    'SGD Classifier': {\n",
        "        'Accuracy': acc_sgd,\n",
        "        'F1-score': f1_sgd,\n",
        "        'Time (s)': time_sgd\n",
        "    }\n",
        "}\n",
        "\n",
        "df_classification = pd.DataFrame(results_classification).T\n",
        "print(\"\\nClassification Models Comparison:\\n\", df_classification)\n"
      ],
      "metadata": {
        "colab": {
          "base_uri": "https://localhost:8080/"
        },
        "id": "gDSSmPu1GUcJ",
        "outputId": "9b6c7667-18ac-4d4b-8669-843e0b69ed9d"
      },
      "execution_count": 25,
      "outputs": [
        {
          "output_type": "stream",
          "name": "stdout",
          "text": [
            "\n",
            "Classification Models Comparison:\n",
            "                      Accuracy  F1-score  Time (s)\n",
            "Logistic Regression  0.865625  0.376812  0.107152\n",
            "SGD Classifier       0.837500  0.333333  0.014980\n"
          ]
        }
      ]
    },
    {
      "cell_type": "code",
      "source": [
        "# Softmax Regression from scratch (basic)\n",
        "import numpy as np\n",
        "\n",
        "# Sample dummy data (m samples, n features)\n",
        "np.random.seed(42)\n",
        "m, n = 100, 3\n",
        "X = np.random.rand(m, n)\n",
        "X_b = np.c_[np.ones((m, 1)), X]  # add bias\n",
        "y = np.random.randint(0, 3, m)   # 3 classes\n",
        "\n",
        "# One-hot encode labels\n",
        "y_onehot = np.zeros((m, 3))\n",
        "y_onehot[np.arange(m), y] = 1\n",
        "\n",
        "# Initialize theta\n",
        "theta = np.random.randn(n + 1, 3)\n",
        "\n",
        "# Softmax function\n",
        "def softmax(logits):\n",
        "    exp = np.exp(logits)\n",
        "    return exp / np.sum(exp, axis=1, keepdims=True)\n",
        "\n",
        "# Batch GD with early stopping\n",
        "learning_rate = 0.1\n",
        "n_epochs = 500\n",
        "best_loss = np.inf\n",
        "patience = 20\n",
        "patience_count = 0\n",
        "\n",
        "for epoch in range(n_epochs):\n",
        "    logits = X_b.dot(theta)\n",
        "    y_proba = softmax(logits)\n",
        "    loss = -np.mean(np.sum(y_onehot * np.log(y_proba + 1e-15), axis=1))\n",
        "\n",
        "    if loss < best_loss:\n",
        "        best_loss = loss\n",
        "        patience_count = 0\n",
        "    else:\n",
        "        patience_count += 1\n",
        "        if patience_count >= patience:\n",
        "            print(f\"Early stopping at epoch {epoch}\")\n",
        "            break\n",
        "\n",
        "    gradients = 1/m * X_b.T.dot(y_proba - y_onehot)\n",
        "    theta = theta - learning_rate * gradients\n",
        "\n",
        "print(\"Final Softmax theta:\\n\", theta)\n"
      ],
      "metadata": {
        "colab": {
          "base_uri": "https://localhost:8080/"
        },
        "id": "Ob6_eYoGIMHq",
        "outputId": "5094c3c5-df9f-41ce-b2d1-6c08e03258f5"
      },
      "execution_count": 27,
      "outputs": [
        {
          "output_type": "stream",
          "name": "stdout",
          "text": [
            "Final Softmax theta:\n",
            " [[-1.13829804e-01 -7.38363472e-04 -1.95908489e+00]\n",
            " [ 8.60181760e-02  1.18054303e-01  1.32741567e+00]\n",
            " [-1.43897955e-01 -3.30605975e-01  6.03051115e-01]\n",
            " [-7.00433072e-01 -1.03294444e+00  3.00463342e-01]]\n"
          ]
        }
      ]
    }
  ]
}